{
 "cells": [
  {
   "cell_type": "code",
   "execution_count": 1,
   "metadata": {},
   "outputs": [
    {
     "name": "stdout",
     "output_type": "stream",
     "text": [
      "Available Themes: \n",
      "   chesterish\n",
      "   grade3\n",
      "   gruvboxd\n",
      "   gruvboxl\n",
      "   monokai\n",
      "   oceans16\n",
      "   onedork\n",
      "   solarizedd\n",
      "   solarizedl\n"
     ]
    }
   ],
   "source": [
    "import jupyterthemes as jt\n",
    "from jupyterthemes import jtplot\n",
    "!jt -l\n",
    "!jt -t onedork -ofs 10 -dfs 9 -nfs 9 -tfs 11\n",
    "jtplot.style(theme = 'onedork', fscale = 1.4, context = 'notebook', ticks = True, grid = False)"
   ]
  },
  {
   "cell_type": "code",
   "execution_count": 2,
   "metadata": {},
   "outputs": [
    {
     "name": "stderr",
     "output_type": "stream",
     "text": [
      "[nltk_data] Downloading package punkt to\n",
      "[nltk_data]     C:\\Users\\Admin\\AppData\\Roaming\\nltk_data...\n",
      "[nltk_data]   Package punkt is already up-to-date!\n",
      "[nltk_data] Downloading package stopwords to\n",
      "[nltk_data]     C:\\Users\\Admin\\AppData\\Roaming\\nltk_data...\n",
      "[nltk_data]   Package stopwords is already up-to-date!\n"
     ]
    },
    {
     "data": {
      "text/plain": [
       "True"
      ]
     },
     "execution_count": 2,
     "metadata": {},
     "output_type": "execute_result"
    }
   ],
   "source": [
    "import nltk\n",
    "from nltk.corpus import stopwords\n",
    "from nltk.tokenize import word_tokenize\n",
    "import pandas as pd\n",
    "import numpy as np\n",
    "import string\n",
    "import re\n",
    "import pickle\n",
    "import zipfile\n",
    "from string import punctuation\n",
    "from pymorphy2 import MorphAnalyzer\n",
    "from sklearn import metrics\n",
    "from num2words import num2words\n",
    "from matplotlib import pylab as plt\n",
    "nltk.download('punkt')\n",
    "nltk.download('stopwords')"
   ]
  },
  {
   "cell_type": "code",
   "execution_count": 3,
   "metadata": {},
   "outputs": [],
   "source": [
    "#load data\n",
    "test_data = pd.read_csv('test_data.csv')\n",
    "target = test_data['is_bad']\n",
    "\n",
    "#Concat all text\n",
    "test_data['all_text'] = test_data['title'] + ' ' + test_data['description'] + \\\n",
    "                        ' '  + test_data['region'] + ' ' + test_data['city']\n",
    "\n",
    "#Preprocess function\n",
    "def text_preprocess(text):\n",
    "    text = text.lower()\n",
    "    text = re.sub('\\n', ' ', text)\n",
    "    text = re.sub('\\t', ' ', text)\n",
    "    text = re.sub('х\\d', ' ', text)\n",
    "    text = re.sub('×', ' ', text)\n",
    "    text = re.sub('б/у', ' бывший употребление ', text)\n",
    "    text = re.sub('пн-пт', ' будни ', text)\n",
    "    text = re.sub('сб-вс', ' выходные ', text)\n",
    "    text = re.sub('\\sм.кв.\\s', ' метр квадратный ', text)\n",
    "    text = re.sub('\\d+:\\d+ до \\d+:\\d+', ' время работы ', text)\n",
    "    text = re.sub(\"[!#$%&'()*+,./:;<=>?@[\\]^_`{|}~—\\\"\\-]+\", ' ', text)\n",
    "    text = re.sub('\\sэт\\s', ' этаж ', text)\n",
    "    text = re.sub('\\sрф\\s', ' россия ', text)\n",
    "    text = re.sub('\\sтел\\s', ' телефон ', text)\n",
    "    text = re.sub('\\sсм\\s', ' сантиметр ', text)\n",
    "    text = re.sub('\\sга\\s', ' гектар ', text)\n",
    "    text = re.sub('\\sкв\\s', ' квадратный ', text)\n",
    "    text = re.sub('\\sм\\s', ' метр ', text)\n",
    "    text = re.sub('\\sкм\\s', ' километр ', text)\n",
    "    text = re.sub('\\sга\\s', ' гектар ', text)\n",
    "    text = re.sub('\\sул\\s', ' улица ', text)\n",
    "    text = re.sub('\\sруб\\s', ' рубль ', text)\n",
    "    text = re.sub('\\sтц\\s', ' торговый центр ', text)\n",
    "    text = re.sub('\\sтк\\s', ' торговый комплекс ', text)\n",
    "    text = re.sub('₽', ' рубль ', text)\n",
    "    text = re.sub('\\sшт\\s', ' штука ', text)\n",
    "    text = re.sub('\\sбу\\s', ' бывший употребление ', text)\n",
    "    text = re.sub('\\sпн\\s', ' понедельник ', text)\n",
    "    text = re.sub('\\sвт\\s', ' вторник ', text)\n",
    "    text = re.sub('\\sср\\s', ' среда ', text)\n",
    "    text = re.sub('\\sчт\\s', ' четверг ', text)\n",
    "    text = re.sub('\\sпт\\s', ' пятница ', text)\n",
    "    text = re.sub('\\sсб\\s', ' суббота ', text)\n",
    "    text = re.sub('\\sвскр\\s', ' воскресенье ', text)\n",
    "    text = re.sub('\\sвс\\s', ' воскресенье ', text)\n",
    "    text = re.sub('\\sчел\\s', ' человек ', text)\n",
    "    text = re.sub('\\sм2\\s', ' метр квадратный ', text)\n",
    "    text = re.sub('\\sм3\\s', ' метр кубический ', text)\n",
    "    text = re.sub('\\sмм\\s', ' миллиметр ', text)\n",
    "    text = re.sub('\\sд\\s', ' дом ', text)\n",
    "    text = re.sub('\\sстр\\s', ' строение ', text)\n",
    "    text = re.sub('\\sсот\\s+8', ' телефон восемь', text)\n",
    "    text = re.sub('\\w²', ' квадратный ', text)\n",
    "    text = re.sub('\\w³', ' кубический ', text)\n",
    "    text = re.sub('\\wˉ¹', ' ', text)\n",
    "    text = re.sub('[⁰❶❷❸❹❺❻❼❽❾❿]', ' ', text)\n",
    "    text = re.sub('[①②③④⑤⑥⑦⑧⑨⑩⑪⑫⑬⑭⑮⑯⑰⑱⑲⑳]', ' ', text)\n",
    "    text = re.sub('[➊➋➌➍➎➏➐➑➒]', ' ', text)\n",
    "    text = re.sub('[ˉ⁴ˉ³ˉ²ˉ¹⁰¹²³⁴⁵⁶⁷⁸⁹]', ' ', text)\n",
    "    return text\n",
    "\n",
    "#Text_preprocess\n",
    "test_data['all_text'] = test_data['all_text'].apply(lambda x: text_preprocess(x))\n",
    "\n",
    "#del symbols\n",
    "def del_sybmols(text):\n",
    "    text = ''.join([' ' if not i.isalnum() else i for i in text])\n",
    "    return text\n",
    "\n",
    "#del symbols function\n",
    "test_data['all_text'] = test_data['all_text'].apply(lambda x: del_sybmols(x))"
   ]
  },
  {
   "cell_type": "code",
   "execution_count": 4,
   "metadata": {},
   "outputs": [],
   "source": [
    "#Lemmatizer\n",
    "morph = MorphAnalyzer()\n",
    "  \n",
    "#Stop words\n",
    "stop_words = stopwords.words('russian')\n",
    "more_stop_words = ['которых', 'которые', 'твой', 'которой', 'которого', 'сих', 'ком', 'свой', 'твоя',\n",
    "                   'этими', 'слишком', 'нами', 'всему', 'будь', 'саму', 'чаще', 'ваше', 'сами', 'наш',\n",
    "                   'затем', 'еще', 'самих', 'наши', 'ту', 'каждое', 'мочь', 'весь', 'этим', 'наша',\n",
    "                   'своих', 'оба', 'который', 'зато', 'те', 'этих', 'вся', 'ваш', 'такая', 'теми',\n",
    "                   'ею', 'которая', 'нередко', 'каждая', 'также', 'чему', 'собой', 'самими', 'нем',\n",
    "                   'вами', 'ими', 'откуда', 'такие', 'тому', 'та', 'очень', 'сама', 'нему', 'алло',\n",
    "                   'оно', 'этому', 'кому', 'тобой', 'таки', 'твоё', 'каждые', 'твои', 'мой', 'нею',\n",
    "                   'самим', 'ваши', 'ваша', 'кем', 'мои', 'однако', 'сразу', 'свое', 'ними', 'всё',\n",
    "                   'неё', 'тех', 'хотя', 'всем', 'тобою', 'тебе', 'одной', 'другие', 'эта', 'само',\n",
    "                   'эта', 'буду', 'самой', 'моё', 'своей', 'такое', 'всею', 'будут', 'своего', 'кого',\n",
    "                   'свои', 'мог', 'нам', 'особенно', 'её', 'самому', 'наше', 'кроме', 'вообще', 'вон',\n",
    "                   'мною', 'никто', 'это']\n",
    "for i in more_stop_words:\n",
    "    stop_words.append(i)"
   ]
  },
  {
   "cell_type": "code",
   "execution_count": 5,
   "metadata": {},
   "outputs": [],
   "source": [
    "#Lemmatize function\n",
    "def lemmatize(token_sentence): \n",
    "    tokens = []\n",
    "    for token in token_sentence:\n",
    "            if token not in stop_words \\\n",
    "            and token != ' ' \\\n",
    "            and token.strip() not in punctuation \\\n",
    "            and len(token) > 1:\n",
    "                token = token.strip()\n",
    "                token = morph.normal_forms(token)[0]\n",
    "                tokens.append(token)\n",
    "    if len(tokens) > 1:\n",
    "        return ' '.join(tokens)\n",
    "    return None\n",
    "\n",
    "#Tokens\n",
    "test_data['all_tokens'] = test_data['all_text'].apply(nltk.word_tokenize)\n",
    "\n",
    "#Lemmatize\n",
    "test_data['clear_text'] = test_data['all_tokens'].apply(lambda x: lemmatize(x))\n",
    "\n",
    "#num to word\n",
    "def NumToWord(text):\n",
    "    text = ''.join([' ' + num2words(i, lang = 'ru') + ' ' if i.isdigit() else i for i in text])\n",
    "    return text\n",
    "\n",
    "#text with num2word\n",
    "test_data['clear_text'] = test_data['clear_text'].apply(lambda x: NumToWord(x))"
   ]
  },
  {
   "cell_type": "code",
   "execution_count": 6,
   "metadata": {},
   "outputs": [],
   "source": [
    "#TFIDF vectorizer\n",
    "with zipfile.ZipFile('vectorizer.zip', 'r') as vectorizer_zip:\n",
    "    vectorizer_zip.extractall()\n",
    "with open('vectorizer.pkl', 'rb') as vectorizer_pickle:\n",
    "    vectorizer = pickle.load(vectorizer_pickle)\n",
    "    \n",
    "#tfidf transform\n",
    "test = vectorizer.transform(test_data['clear_text'])\n",
    "\n",
    "#Logistic regression\n",
    "with zipfile.ZipFile('logreg.zip', 'r') as logreg_zip:\n",
    "    logreg_zip.extractall()\n",
    "with open('logreg.pkl', 'rb') as logreg_pickle:\n",
    "    logreg = pickle.load(logreg_pickle)"
   ]
  },
  {
   "cell_type": "code",
   "execution_count": 7,
   "metadata": {},
   "outputs": [
    {
     "name": "stdout",
     "output_type": "stream",
     "text": [
      "ROC AUC on test data: 0.9328426171507874\n"
     ]
    },
    {
     "data": {
      "image/png": "[encoded data removed]",
      "text/plain": [
       "<Figure size 576x576 with 1 Axes>"
      ]
     },
     "metadata": {},
     "output_type": "display_data"
    }
   ],
   "source": [
    "#Predict\n",
    "prediction = logreg.predict_proba(test)[:, 1]\n",
    "print('ROC AUC on test data:', metrics.roc_auc_score(target, prediction))\n",
    "\n",
    "#Plot ROC_AUC Curve\n",
    "plt.figure(figsize = (8, 8))\n",
    "fpr, tpr, _ = metrics.roc_curve(target, prediction)\n",
    "plt.plot([0, 1], [0, 1], linestyle = '--', label = 'Random Classifier')\n",
    "plt.plot(fpr, tpr, label = 'Logreg Classifier ROC_AUC = ' + \\\n",
    "                            str(round(metrics.roc_auc_score(target,prediction), 5)))\n",
    "plt.title('ROC AUC Curve')\n",
    "plt.xlabel('False Positive Rate')\n",
    "plt.ylabel('True Positive Rate')\n",
    "plt.legend()\n",
    "plt.show()"
   ]
  }
 ],
 "metadata": {
  "kernelspec": {
   "display_name": "Python 3",
   "language": "python",
   "name": "python3"
  },
  "language_info": {
   "codemirror_mode": {
    "name": "ipython",
    "version": 3
   },
   "file_extension": ".py",
   "mimetype": "text/x-python",
   "name": "python",
   "nbconvert_exporter": "python",
   "pygments_lexer": "ipython3",
   "version": "3.8.3"
  }
 },
 "nbformat": 4,
 "nbformat_minor": 4
}
